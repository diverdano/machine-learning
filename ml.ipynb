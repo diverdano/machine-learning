{
 "cells": [
  {
   "cell_type": "markdown",
   "metadata": {},
   "source": [
    "# Dan's Machine Learning Notes\n",
    "Here is the notebook"
   ]
  },
  {
   "cell_type": "code",
   "execution_count": 1,
   "metadata": {
    "collapsed": false
   },
   "outputs": [
    {
     "name": "stdout",
     "output_type": "stream",
     "text": [
      "hello\n"
     ]
    }
   ],
   "source": [
    "print(\"hello\")"
   ]
  },
  {
   "cell_type": "markdown",
   "metadata": {},
   "source": [
    "# Binary Classification\n",
    "\n",
    "Hypothesis: list of inputs predict if a student will pass\n",
    "null hypothesis: list of inputs do not predict if a student will pass\n",
    "This null hypothesis is tested against experimental data with a view to nullifying it with evidence to the contrary.\n",
    "\n",
    "## Score Distribution - Statistical testing\n",
    "from: https://en.wikipedia.org/wiki/Type_I_and_type_II_errors<br>\n",
    "There are four possbile outcomes\n",
    "Tabularised relations between truth/falseness of the null hypothesis and outcomes of the test:\n",
    "\n",
    "<table><tbody>\n",
    "    <tr>\n",
    "        <th rowspan=\"2\" colspan=\"2\">&nbsp;Table of error types</th>\n",
    "        <th colspan=\"2\">Null hypothesis (<i>H</i><sub>0</sub>) is</th>\n",
    "    </tr>\n",
    "    <tr>\n",
    "        <th>True</th>\n",
    "        <th>False</th>\n",
    "    </tr>\n",
    "    <tr>\n",
    "        <th rowspan=\"2\">Decision About Null Hypothesis (<i>H</i><sub>0</sub>)</th>\n",
    "        <th>Reject</th>\n",
    "        <td style=\"text-align:center;\">Type&nbsp;I error (False Positive)</td>\n",
    "        <td style=\"text-align:center;\">Correct inference (True Positive)</td>\n",
    "    </tr>\n",
    "    <tr>\n",
    "        <th>Fail to reject</th>\n",
    "        <td style=\"text-align:center;\">Correct inference (True Negative)</td>\n",
    "        <td style=\"text-align:center;\">Type&nbsp;II error (False Negative)</td>\n",
    "    </tr>\n",
    "</tbody></table>\n",
    "\n",
    "<ol>\n",
    "    <li>true positive - reject null hypothesis (null hypothesis is false)\n",
    "    <li>false positive - aka: type I error (incorrect rejection of null hypothesis)\n",
    "    <li>true negative - accept the null hypothesis (null hypothesis is true) \n",
    "    <li>false negative - aka: type II error (incorrect retaining a false null hypothesis)\n",
    "</ol>\n",
    "\n",
    "* Accuracy (ACC) measures the fraction of correct predictions.<br>\n",
    "Precision measures the fraction of actual positives among those examples that are predicted as positive.<br>\n",
    "Recall measures how many actual positives were predicted as positive.<br>\n",
    "F1-measure is the harmonic mean of precision and recall\n",
    "<br>\n",
    "\n",
    "* F1 = 2 * (precision * recall) / (precision + recall)"
   ]
  },
  {
   "cell_type": "code",
   "execution_count": null,
   "metadata": {
    "collapsed": true
   },
   "outputs": [],
   "source": []
  }
 ],
 "metadata": {
  "anaconda-cloud": {},
  "kernelspec": {
   "display_name": "Python [Root]",
   "language": "python",
   "name": "Python [Root]"
  },
  "language_info": {
   "codemirror_mode": {
    "name": "ipython",
    "version": 3
   },
   "file_extension": ".py",
   "mimetype": "text/x-python",
   "name": "python",
   "nbconvert_exporter": "python",
   "pygments_lexer": "ipython3",
   "version": "3.5.2"
  }
 },
 "nbformat": 4,
 "nbformat_minor": 0
}
